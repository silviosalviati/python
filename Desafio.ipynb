{
  "nbformat": 4,
  "nbformat_minor": 0,
  "metadata": {
    "colab": {
      "name": "Desafio.ipynb",
      "provenance": [],
      "collapsed_sections": [],
      "authorship_tag": "ABX9TyNOkG3n5yr2uafynFXWYugk",
      "include_colab_link": true
    },
    "kernelspec": {
      "name": "python3",
      "display_name": "Python 3"
    },
    "language_info": {
      "name": "python"
    }
  },
  "cells": [
    {
      "cell_type": "markdown",
      "metadata": {
        "id": "view-in-github",
        "colab_type": "text"
      },
      "source": [
        "<a href=\"https://colab.research.google.com/github/silviosalviati/python/blob/main/Desafio.ipynb\" target=\"_parent\"><img src=\"https://colab.research.google.com/assets/colab-badge.svg\" alt=\"Open In Colab\"/></a>"
      ]
    },
    {
      "cell_type": "code",
      "metadata": {
        "colab": {
          "base_uri": "https://localhost:8080/"
        },
        "id": "pqTc20F4LsUS",
        "outputId": "2746031d-08db-4d05-f1c3-bfae434ff2c3"
      },
      "source": [
        "#Instala a biblioteca para utilização\n",
        "#!pip install unidecode\n",
        "\n",
        "#importa a biblioteca\n",
        "import unidecode\n",
        "\n",
        "import collections\n",
        "\n",
        "#texto informado pelo desafio\n",
        "texto = \"Um forte indicador de que já há avanços de Democratização de Dados nas organizações é observar quantas pessoas tem acesso a Dados.\"\n",
        "\n",
        "#chama a classe Desafio passando o texto como parametro\n",
        "Desafio(texto)\n",
        "\n",
        "class Desafio:\n",
        "  def __init__(self,texto):\n",
        "    self.removeAcentos(texto)\n",
        "\n",
        "  def removeAcentos(self,texto):\n",
        "    self.texto = unidecode.unidecode(texto).lower()\n",
        "    self.quantidadeTexto(self.texto)\n",
        "\n",
        "  def quantidadeTexto(self,texto):\n",
        "    self.texto = texto\n",
        "    self.quantidade = len(texto)\n",
        "    self.quantidadeCaracter(self.texto,self.quantidade)\n",
        "\n",
        "  def quantidadeCaracter(self,texto,quantidade):\n",
        "    #criaçao da lista\n",
        "    listaCaracter =[]\n",
        "  \n",
        "    for c in self.texto:\n",
        "      listaCaracter.append(c)\n",
        "    novaLista = sorted(listaCaracter)\n",
        "\n",
        "    print('\\033[1;34mRepetição das palavras: \\033[1;37m%s'%(collections.Counter(novaLista)))\n",
        "    print(\"-\" * 150)\n",
        "    print('\\033[1;34mTexto Tratado: \\033[1;37m%s'%(self.texto))\n",
        "    print(\"-\" * 150)\n",
        "    print('\\033[1;34mO texto possui \\033[1;37m%d \\033[1;34mcaracteres'%(self.quantidade))\n",
        "\n",
        "\n",
        "  "
      ],
      "execution_count": 80,
      "outputs": [
        {
          "output_type": "stream",
          "name": "stdout",
          "text": [
            "\u001b[1;34mRepetição das palavras: \u001b[1;37mCounter({' ': 21, 'a': 19, 'e': 12, 'o': 12, 's': 12, 'd': 10, 'c': 6, 'r': 6, 'n': 5, 'i': 4, 't': 4, 'm': 3, 'u': 3, 'q': 2, 'v': 2, 'z': 2, '.': 1, 'b': 1, 'f': 1, 'g': 1, 'h': 1, 'j': 1, 'p': 1})\n",
            "------------------------------------------------------------------------------------------------------------------------------------------------------\n",
            "\u001b[1;34mTexto Tratado: \u001b[1;37mum forte indicador de que ja ha avancos de democratizacao de dados nas organizacoes e observar quantas pessoas tem acesso a dados.\n",
            "------------------------------------------------------------------------------------------------------------------------------------------------------\n",
            "\u001b[1;34mO texto possui \u001b[1;37m130 \u001b[1;34mcaracteres\n"
          ]
        }
      ]
    }
  ]
}