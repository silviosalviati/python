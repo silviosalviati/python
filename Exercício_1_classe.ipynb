{
  "nbformat": 4,
  "nbformat_minor": 0,
  "metadata": {
    "colab": {
      "name": "Exercício 1_classe.ipynb",
      "provenance": [],
      "authorship_tag": "ABX9TyP2fkbNZGNvNqRZBi6J+TEV",
      "include_colab_link": true
    },
    "kernelspec": {
      "name": "python3",
      "display_name": "Python 3"
    },
    "language_info": {
      "name": "python"
    }
  },
  "cells": [
    {
      "cell_type": "markdown",
      "metadata": {
        "id": "view-in-github",
        "colab_type": "text"
      },
      "source": [
        "<a href=\"https://colab.research.google.com/github/silviosalviati/python/blob/main/Exerc%C3%ADcio_1_classe.ipynb\" target=\"_parent\"><img src=\"https://colab.research.google.com/assets/colab-badge.svg\" alt=\"Open In Colab\"/></a>"
      ]
    },
    {
      "cell_type": "code",
      "metadata": {
        "id": "pqTc20F4LsUS"
      },
      "source": [
        "valor1 = float(input(\"Digite o valor qualquer: \"))\n",
        "valor2 = float(input(\"Digite outro valor: \"))\n",
        "operacao = input(\"Digite a operação: \")\n",
        "\n",
        "Calculadora(valor1,valor2,operacao)\n",
        "\n",
        "class Calculadora:\n",
        "  def __init__(self,valor1,valor2,operacao):\n",
        "    self.valor1 = valor1\n",
        "    self.valor2 = valor2\n",
        "    self.operacao = operacao\n",
        "\n",
        "    if self.operacao == \"+\":\n",
        "      print(self.valor1 + self.valor2)\n",
        "    elif self.operacao == \"-\":\n",
        "      print(self.valor1 - self.valor2)\n",
        "    elif self.operacao == \"*\":\n",
        "      print(self.valor1 * self.valor2)\n",
        "    else:\n",
        "      if self.valor2 > 0:\n",
        "        print(self.valor1 / self.valor2)\n",
        "      else:\n",
        "        print(\"divisão por zero\")\n",
        "    "
      ],
      "execution_count": null,
      "outputs": []
    }
  ]
}